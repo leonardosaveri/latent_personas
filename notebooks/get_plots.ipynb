{
 "cells": [
  {
   "cell_type": "code",
   "execution_count": 14,
   "id": "1dd9402d-32a9-48cc-b220-d0487943773a",
   "metadata": {
    "id": "1dd9402d-32a9-48cc-b220-d0487943773a"
   },
   "outputs": [],
   "source": [
    "import pandas as pd\n",
    "import numpy as np\n",
    "import requests\n",
    "import os\n",
    "from bs4 import BeautifulSoup\n",
    "import re\n",
    "from concurrent.futures import ThreadPoolExecutor"
   ]
  },
  {
   "cell_type": "code",
   "execution_count": 2,
   "id": "dcb3169d-12ea-4f59-b466-270e2185c016",
   "metadata": {
    "colab": {
     "base_uri": "https://localhost:8080/"
    },
    "id": "dcb3169d-12ea-4f59-b466-270e2185c016",
    "outputId": "d477f9c6-5e71-4b84-8770-ba39b45ee4bb"
   },
   "outputs": [
    {
     "name": "stdout",
     "output_type": "stream",
     "text": [
      "(2368, 3)\n",
      "(5545, 3)\n",
      "(8065, 3)\n",
      "(10472, 3)\n",
      "(11504, 3)\n",
      "(13316, 3)\n",
      "(14741, 3)\n",
      "(16733, 3)\n",
      "(18307, 3)\n",
      "(23102, 3)\n",
      "(25052, 3)\n",
      "(28818, 3)\n",
      "(34512, 3)\n",
      "(36554, 3)\n",
      "(39944, 3)\n",
      "(44084, 3)\n",
      "(46987, 3)\n",
      "(53909, 3)\n",
      "(55422, 3)\n",
      "(55979, 3)\n"
     ]
    }
   ],
   "source": [
    "def fetch_page_titles(letter):\n",
    "    subject = 'List of films: ' + letter\n",
    "    url = 'https://en.wikipedia.org/w/api.php'\n",
    "\n",
    "    params = {\n",
    "        'action': 'query',\n",
    "        'format': 'json',\n",
    "        'titles': subject,\n",
    "        'prop': 'links',\n",
    "        'pllimit': 'max',\n",
    "        'redirects':''\n",
    "    }\n",
    "\n",
    "    response = requests.get(url=url, params=params)\n",
    "    data = response.json()\n",
    "    page_titles = []\n",
    "\n",
    "    while 'continue' in data:\n",
    "        for key, val in data['query']['pages'].items():\n",
    "            for link in val['links']:\n",
    "                page_titles.append(link['title'])\n",
    "        plcontinue = data['continue']['plcontinue']\n",
    "        params['plcontinue'] = plcontinue\n",
    "        response = requests.get(url=url, params=params)\n",
    "        data = response.json()\n",
    "\n",
    "    for key, val in data['query']['pages'].items():\n",
    "        for link in val['links']:\n",
    "            page_titles.append(link['title'])\n",
    "\n",
    "    return page_titles, letter\n",
    "\n",
    "\n",
    "movie_list = pd.DataFrame(columns=['title', 'letter', 'plot'])\n",
    "letters = [\"A\", \"B\", \"C\", \"D\", \"E\", \"F\", \"G\", \"H\", \"I\",\n",
    "           \"J-K\", \"L\", \"M\", \"N-O\", \"P\", \"Q-R\", \"S\", \"T\",\n",
    "           \"U-W\", \"X-Z\", \"numbers\"]\n",
    "\n",
    "with ThreadPoolExecutor() as executor:\n",
    "    results = list(executor.map(fetch_page_titles, letters))\n",
    "\n",
    "for page_titles, letter in results:\n",
    "    plot = np.NaN\n",
    "    for n, title in enumerate(page_titles):\n",
    "        movie_list.loc[str(letter + \"_\" + str(n))] = [title, letter, plot]\n",
    "\n",
    "    print(movie_list.shape)"
   ]
  },
  {
   "cell_type": "code",
   "execution_count": 3,
   "id": "930d6fdc-2ed0-43f6-bd9f-35fccbeada21",
   "metadata": {
    "id": "930d6fdc-2ed0-43f6-bd9f-35fccbeada21"
   },
   "outputs": [],
   "source": [
    "movie_list.to_csv(\"/content/movies.csv\", index=False)"
   ]
  },
  {
   "cell_type": "markdown",
   "id": "f8061c5c-cbcd-4bf1-9643-7b0fe04db980",
   "metadata": {
    "id": "f8061c5c-cbcd-4bf1-9643-7b0fe04db980"
   },
   "source": [
    "# Getting Plots"
   ]
  },
  {
   "cell_type": "code",
   "execution_count": 15,
   "id": "0e6b4854-6902-4f85-88ad-224b94a48e89",
   "metadata": {
    "id": "0e6b4854-6902-4f85-88ad-224b94a48e89"
   },
   "outputs": [],
   "source": [
    "from multiprocessing import Pool, cpu_count\n",
    "import concurrent.futures\n",
    "from tqdm.auto import tqdm\n",
    "tqdm.pandas()"
   ]
  },
  {
   "cell_type": "code",
   "execution_count": 17,
   "id": "a640e0d8-5bf4-4660-b994-e5cd769a12e0",
   "metadata": {
    "id": "a640e0d8-5bf4-4660-b994-e5cd769a12e0"
   },
   "outputs": [],
   "source": [
    "movie_list = pd.read_csv(\"movies.csv\")"
   ]
  },
  {
   "cell_type": "code",
   "execution_count": 18,
   "id": "2b382b25-2a30-4e3e-a915-7cdb765d0ccf",
   "metadata": {
    "id": "2b382b25-2a30-4e3e-a915-7cdb765d0ccf"
   },
   "outputs": [],
   "source": [
    "def fetch_plot(title):\n",
    "    try:\n",
    "        url = 'https://en.wikipedia.org/w/api.php'\n",
    "        params = {\n",
    "                    'action': 'parse',\n",
    "                    'page': title,\n",
    "                    'format': 'json',\n",
    "                    'prop':'text',\n",
    "                    # 'section':1,\n",
    "                    'redirects':''\n",
    "                }\n",
    "\n",
    "        response = requests.get(url, params=params)\n",
    "\n",
    "        data = response.json()\n",
    "\n",
    "        raw_html = data['parse']['text']['*']\n",
    "        soup = BeautifulSoup(raw_html,'html.parser')\n",
    "        soup.find_all('p')\n",
    "        text = ''\n",
    "\n",
    "        for tag in soup.find_all(class_=\"reference\"):\n",
    "            tag.decompose()\n",
    "\n",
    "        for p in soup.find_all():\n",
    "            if p.text.startswith('Cite error: '):\n",
    "                continue\n",
    "            text += p.text\n",
    "\n",
    "        plot_regex = re.compile(r\"\\nPlot(.*?)\\n(.+?)\\n\\n\", re.DOTALL)\n",
    "        return plot_regex.search(text).group(2)\n",
    "\n",
    "    except:\n",
    "        return np.NaN"
   ]
  },
  {
   "cell_type": "code",
   "execution_count": null,
   "id": "221a6cde-91c4-41f6-ac10-739fa2ff9cf3",
   "metadata": {
    "colab": {
     "base_uri": "https://localhost:8080/",
     "height": 49,
     "referenced_widgets": [
      "77150bc7e4b34d71b4332b9b6f221c99",
      "50a318cd90ca486ea9377a3b1edbdeca",
      "c14a50aefcaa4c8cac020fd4d0ff8720",
      "5a621ec7fd0d47c8b9f7a4ff3cfc4f0f",
      "3f050007e68549b59be1cce3eba90505",
      "b48cde3e3a2348d28924b454906b9487",
      "a0419f9675494bc98ff3816a65577a67",
      "1f1b27c92e224d96977f3cbedb3bd05b",
      "e3d33cd1cf334e199b4de9e605727f90",
      "bb621ac4ec9343cea4601b00531f0996",
      "8e2d6ff496814c02ba7af9dea4980279"
     ]
    },
    "id": "221a6cde-91c4-41f6-ac10-739fa2ff9cf3",
    "outputId": "1aedc308-4401-402d-bcbc-95aec710e2fb"
   },
   "outputs": [],
   "source": [
    "import asyncio\n",
    "import aiohttp\n",
    "\n",
    "async def fetch_plots_async(titles):\n",
    "    sem = asyncio.Semaphore(200)  # Limit the number of concurrent requests to 200\n",
    "    async with sem:\n",
    "        async with aiohttp.ClientSession() as session:\n",
    "            tasks = [fetch_plot(title, session) for title in titles]\n",
    "            return await asyncio.gather(*tasks)\n",
    "\n",
    "loop = asyncio.get_event_loop()\n",
    "titles = movie_list['title'].tolist()\n",
    "plots = loop.run_until_complete(fetch_plots_async(titles))\n",
    "\n",
    "movie_list['plot'] = plots"
   ]
  },
  {
   "cell_type": "code",
   "execution_count": null,
   "id": "637eb8c5-eefb-4bb2-ab20-2627ea260248",
   "metadata": {
    "id": "637eb8c5-eefb-4bb2-ab20-2627ea260248"
   },
   "outputs": [],
   "source": [
    "movie_list.to_csv(\"movies_plot.csv\", index=False)"
   ]
  },
  {
   "cell_type": "code",
   "execution_count": null,
   "id": "c7a2c61c-af5e-4ed2-9ba7-3cdff994fb26",
   "metadata": {
    "id": "c7a2c61c-af5e-4ed2-9ba7-3cdff994fb26"
   },
   "outputs": [],
   "source": [
    "movie_list[\"plot\"].isna().sum()"
   ]
  },
  {
   "cell_type": "code",
   "execution_count": null,
   "id": "a4b48e2b-7dfc-47c1-a74a-4165ee252ebc",
   "metadata": {
    "id": "a4b48e2b-7dfc-47c1-a74a-4165ee252ebc"
   },
   "outputs": [],
   "source": []
  }
 ],
 "metadata": {
  "colab": {
   "provenance": []
  },
  "kernelspec": {
   "display_name": "Python 3 (ipykernel)",
   "language": "python",
   "name": "python3"
  },
  "language_info": {
   "codemirror_mode": {
    "name": "ipython",
    "version": 3
   },
   "file_extension": ".py",
   "mimetype": "text/x-python",
   "name": "python",
   "nbconvert_exporter": "python",
   "pygments_lexer": "ipython3",
   "version": "3.9.7"
  },
  "widgets": {
   "application/vnd.jupyter.widget-state+json": {
    "1f1b27c92e224d96977f3cbedb3bd05b": {
     "model_module": "@jupyter-widgets/base",
     "model_module_version": "1.2.0",
     "model_name": "LayoutModel",
     "state": {
      "_model_module": "@jupyter-widgets/base",
      "_model_module_version": "1.2.0",
      "_model_name": "LayoutModel",
      "_view_count": null,
      "_view_module": "@jupyter-widgets/base",
      "_view_module_version": "1.2.0",
      "_view_name": "LayoutView",
      "align_content": null,
      "align_items": null,
      "align_self": null,
      "border": null,
      "bottom": null,
      "display": null,
      "flex": null,
      "flex_flow": null,
      "grid_area": null,
      "grid_auto_columns": null,
      "grid_auto_flow": null,
      "grid_auto_rows": null,
      "grid_column": null,
      "grid_gap": null,
      "grid_row": null,
      "grid_template_areas": null,
      "grid_template_columns": null,
      "grid_template_rows": null,
      "height": null,
      "justify_content": null,
      "justify_items": null,
      "left": null,
      "margin": null,
      "max_height": null,
      "max_width": null,
      "min_height": null,
      "min_width": null,
      "object_fit": null,
      "object_position": null,
      "order": null,
      "overflow": null,
      "overflow_x": null,
      "overflow_y": null,
      "padding": null,
      "right": null,
      "top": null,
      "visibility": null,
      "width": null
     }
    },
    "3f050007e68549b59be1cce3eba90505": {
     "model_module": "@jupyter-widgets/base",
     "model_module_version": "1.2.0",
     "model_name": "LayoutModel",
     "state": {
      "_model_module": "@jupyter-widgets/base",
      "_model_module_version": "1.2.0",
      "_model_name": "LayoutModel",
      "_view_count": null,
      "_view_module": "@jupyter-widgets/base",
      "_view_module_version": "1.2.0",
      "_view_name": "LayoutView",
      "align_content": null,
      "align_items": null,
      "align_self": null,
      "border": null,
      "bottom": null,
      "display": null,
      "flex": null,
      "flex_flow": null,
      "grid_area": null,
      "grid_auto_columns": null,
      "grid_auto_flow": null,
      "grid_auto_rows": null,
      "grid_column": null,
      "grid_gap": null,
      "grid_row": null,
      "grid_template_areas": null,
      "grid_template_columns": null,
      "grid_template_rows": null,
      "height": null,
      "justify_content": null,
      "justify_items": null,
      "left": null,
      "margin": null,
      "max_height": null,
      "max_width": null,
      "min_height": null,
      "min_width": null,
      "object_fit": null,
      "object_position": null,
      "order": null,
      "overflow": null,
      "overflow_x": null,
      "overflow_y": null,
      "padding": null,
      "right": null,
      "top": null,
      "visibility": null,
      "width": null
     }
    },
    "50a318cd90ca486ea9377a3b1edbdeca": {
     "model_module": "@jupyter-widgets/controls",
     "model_module_version": "1.5.0",
     "model_name": "HTMLModel",
     "state": {
      "_dom_classes": [],
      "_model_module": "@jupyter-widgets/controls",
      "_model_module_version": "1.5.0",
      "_model_name": "HTMLModel",
      "_view_count": null,
      "_view_module": "@jupyter-widgets/controls",
      "_view_module_version": "1.5.0",
      "_view_name": "HTMLView",
      "description": "",
      "description_tooltip": null,
      "layout": "IPY_MODEL_b48cde3e3a2348d28924b454906b9487",
      "placeholder": "​",
      "style": "IPY_MODEL_a0419f9675494bc98ff3816a65577a67",
      "value": "  4%"
     }
    },
    "5a621ec7fd0d47c8b9f7a4ff3cfc4f0f": {
     "model_module": "@jupyter-widgets/controls",
     "model_module_version": "1.5.0",
     "model_name": "HTMLModel",
     "state": {
      "_dom_classes": [],
      "_model_module": "@jupyter-widgets/controls",
      "_model_module_version": "1.5.0",
      "_model_name": "HTMLModel",
      "_view_count": null,
      "_view_module": "@jupyter-widgets/controls",
      "_view_module_version": "1.5.0",
      "_view_name": "HTMLView",
      "description": "",
      "description_tooltip": null,
      "layout": "IPY_MODEL_bb621ac4ec9343cea4601b00531f0996",
      "placeholder": "​",
      "style": "IPY_MODEL_8e2d6ff496814c02ba7af9dea4980279",
      "value": " 2068/55979 [12:21&lt;7:37:12,  1.97it/s]"
     }
    },
    "77150bc7e4b34d71b4332b9b6f221c99": {
     "model_module": "@jupyter-widgets/controls",
     "model_module_version": "1.5.0",
     "model_name": "HBoxModel",
     "state": {
      "_dom_classes": [],
      "_model_module": "@jupyter-widgets/controls",
      "_model_module_version": "1.5.0",
      "_model_name": "HBoxModel",
      "_view_count": null,
      "_view_module": "@jupyter-widgets/controls",
      "_view_module_version": "1.5.0",
      "_view_name": "HBoxView",
      "box_style": "",
      "children": [
       "IPY_MODEL_50a318cd90ca486ea9377a3b1edbdeca",
       "IPY_MODEL_c14a50aefcaa4c8cac020fd4d0ff8720",
       "IPY_MODEL_5a621ec7fd0d47c8b9f7a4ff3cfc4f0f"
      ],
      "layout": "IPY_MODEL_3f050007e68549b59be1cce3eba90505"
     }
    },
    "8e2d6ff496814c02ba7af9dea4980279": {
     "model_module": "@jupyter-widgets/controls",
     "model_module_version": "1.5.0",
     "model_name": "DescriptionStyleModel",
     "state": {
      "_model_module": "@jupyter-widgets/controls",
      "_model_module_version": "1.5.0",
      "_model_name": "DescriptionStyleModel",
      "_view_count": null,
      "_view_module": "@jupyter-widgets/base",
      "_view_module_version": "1.2.0",
      "_view_name": "StyleView",
      "description_width": ""
     }
    },
    "a0419f9675494bc98ff3816a65577a67": {
     "model_module": "@jupyter-widgets/controls",
     "model_module_version": "1.5.0",
     "model_name": "DescriptionStyleModel",
     "state": {
      "_model_module": "@jupyter-widgets/controls",
      "_model_module_version": "1.5.0",
      "_model_name": "DescriptionStyleModel",
      "_view_count": null,
      "_view_module": "@jupyter-widgets/base",
      "_view_module_version": "1.2.0",
      "_view_name": "StyleView",
      "description_width": ""
     }
    },
    "b48cde3e3a2348d28924b454906b9487": {
     "model_module": "@jupyter-widgets/base",
     "model_module_version": "1.2.0",
     "model_name": "LayoutModel",
     "state": {
      "_model_module": "@jupyter-widgets/base",
      "_model_module_version": "1.2.0",
      "_model_name": "LayoutModel",
      "_view_count": null,
      "_view_module": "@jupyter-widgets/base",
      "_view_module_version": "1.2.0",
      "_view_name": "LayoutView",
      "align_content": null,
      "align_items": null,
      "align_self": null,
      "border": null,
      "bottom": null,
      "display": null,
      "flex": null,
      "flex_flow": null,
      "grid_area": null,
      "grid_auto_columns": null,
      "grid_auto_flow": null,
      "grid_auto_rows": null,
      "grid_column": null,
      "grid_gap": null,
      "grid_row": null,
      "grid_template_areas": null,
      "grid_template_columns": null,
      "grid_template_rows": null,
      "height": null,
      "justify_content": null,
      "justify_items": null,
      "left": null,
      "margin": null,
      "max_height": null,
      "max_width": null,
      "min_height": null,
      "min_width": null,
      "object_fit": null,
      "object_position": null,
      "order": null,
      "overflow": null,
      "overflow_x": null,
      "overflow_y": null,
      "padding": null,
      "right": null,
      "top": null,
      "visibility": null,
      "width": null
     }
    },
    "bb621ac4ec9343cea4601b00531f0996": {
     "model_module": "@jupyter-widgets/base",
     "model_module_version": "1.2.0",
     "model_name": "LayoutModel",
     "state": {
      "_model_module": "@jupyter-widgets/base",
      "_model_module_version": "1.2.0",
      "_model_name": "LayoutModel",
      "_view_count": null,
      "_view_module": "@jupyter-widgets/base",
      "_view_module_version": "1.2.0",
      "_view_name": "LayoutView",
      "align_content": null,
      "align_items": null,
      "align_self": null,
      "border": null,
      "bottom": null,
      "display": null,
      "flex": null,
      "flex_flow": null,
      "grid_area": null,
      "grid_auto_columns": null,
      "grid_auto_flow": null,
      "grid_auto_rows": null,
      "grid_column": null,
      "grid_gap": null,
      "grid_row": null,
      "grid_template_areas": null,
      "grid_template_columns": null,
      "grid_template_rows": null,
      "height": null,
      "justify_content": null,
      "justify_items": null,
      "left": null,
      "margin": null,
      "max_height": null,
      "max_width": null,
      "min_height": null,
      "min_width": null,
      "object_fit": null,
      "object_position": null,
      "order": null,
      "overflow": null,
      "overflow_x": null,
      "overflow_y": null,
      "padding": null,
      "right": null,
      "top": null,
      "visibility": null,
      "width": null
     }
    },
    "c14a50aefcaa4c8cac020fd4d0ff8720": {
     "model_module": "@jupyter-widgets/controls",
     "model_module_version": "1.5.0",
     "model_name": "FloatProgressModel",
     "state": {
      "_dom_classes": [],
      "_model_module": "@jupyter-widgets/controls",
      "_model_module_version": "1.5.0",
      "_model_name": "FloatProgressModel",
      "_view_count": null,
      "_view_module": "@jupyter-widgets/controls",
      "_view_module_version": "1.5.0",
      "_view_name": "ProgressView",
      "bar_style": "",
      "description": "",
      "description_tooltip": null,
      "layout": "IPY_MODEL_1f1b27c92e224d96977f3cbedb3bd05b",
      "max": 55979,
      "min": 0,
      "orientation": "horizontal",
      "style": "IPY_MODEL_e3d33cd1cf334e199b4de9e605727f90",
      "value": 2068
     }
    },
    "e3d33cd1cf334e199b4de9e605727f90": {
     "model_module": "@jupyter-widgets/controls",
     "model_module_version": "1.5.0",
     "model_name": "ProgressStyleModel",
     "state": {
      "_model_module": "@jupyter-widgets/controls",
      "_model_module_version": "1.5.0",
      "_model_name": "ProgressStyleModel",
      "_view_count": null,
      "_view_module": "@jupyter-widgets/base",
      "_view_module_version": "1.2.0",
      "_view_name": "StyleView",
      "bar_color": null,
      "description_width": ""
     }
    }
   }
  }
 },
 "nbformat": 4,
 "nbformat_minor": 5
}
